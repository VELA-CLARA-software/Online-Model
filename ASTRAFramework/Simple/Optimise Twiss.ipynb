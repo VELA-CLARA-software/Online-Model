{
 "cells": [
  {
   "cell_type": "markdown",
   "metadata": {},
   "source": [
    "# Optimising CLARA Twiss Parameters"
   ]
  },
  {
   "cell_type": "markdown",
   "metadata": {},
   "source": [
    "## Imports"
   ]
  },
  {
   "cell_type": "code",
   "execution_count": 1,
   "metadata": {
    "collapsed": true
   },
   "outputs": [],
   "source": [
    "from ASTRAInjector import *\n",
    "import numpy as np\n",
    "from constraints import *\n",
    "import os\n",
    "import copy\n",
    "import read_twiss_file as rtf\n",
    "from deap import algorithms\n",
    "from deap import base\n",
    "from deap import creator\n",
    "from deap import tools\n",
    "import multiprocessing\n",
    "from scoop import futures\n",
    "import operator\n",
    "import random\n",
    "import shutil\n",
    "import uuid\n",
    "import csv"
   ]
  },
  {
   "cell_type": "markdown",
   "metadata": {},
   "source": [
    "## Additional Definitions"
   ]
  },
  {
   "cell_type": "code",
   "execution_count": 2,
   "metadata": {
    "collapsed": true
   },
   "outputs": [],
   "source": [
    "twiss = rtf.twiss()"
   ]
  },
  {
   "cell_type": "code",
   "execution_count": 3,
   "metadata": {
    "collapsed": false
   },
   "outputs": [],
   "source": [
    "def merge_two_dicts(x, y):\n",
    "    \"\"\"Given two dicts, merge them into a new dict as a shallow copy.\"\"\"\n",
    "    z = x.copy()\n",
    "    z.update(y)\n",
    "    return z"
   ]
  },
  {
   "cell_type": "code",
   "execution_count": 4,
   "metadata": {
    "collapsed": true
   },
   "outputs": [],
   "source": [
    "class TemporaryDirectory(object):\n",
    "    \"\"\"Context manager for tempfile.mkdtemp() so it's usable with \"with\" statement.\"\"\"\n",
    "\n",
    "    def __init__(self, *args, **kwargs):\n",
    "        self.args = args\n",
    "        self.kwargs = kwargs\n",
    "\n",
    "    def tempname(self):\n",
    "        return 'tmp'+str(uuid.uuid4())\n",
    "\n",
    "    def __enter__(self, dir=os.getcwd()):\n",
    "        exists = True\n",
    "        while exists:\n",
    "            self.name = dir + '/' + self.tempname()\n",
    "            if not os.path.exists(self.name):\n",
    "                exists=False\n",
    "                os.makedirs(self.name)\n",
    "        return self.name\n",
    "\n",
    "    def __exit__(self, exc_type, exc_value, traceback):\n",
    "        shutil.rmtree(self.name)\n"
   ]
  },
  {
   "cell_type": "markdown",
   "metadata": {},
   "source": [
    "## Fitness Function"
   ]
  },
  {
   "cell_type": "code",
   "execution_count": 5,
   "metadata": {
    "collapsed": false
   },
   "outputs": [],
   "source": [
    "class fitnessFunc():\n",
    "\n",
    "    def __init__(self, args, tempdir, npart=100, ncpu=6, overwrite=True, verbose=False):\n",
    "        self.tmpdir = tempdir\n",
    "        self.verbose = verbose\n",
    "        self.parameters = list(args)\n",
    "        self.dirname = os.path.basename(self.tmpdir)\n",
    "        astra = ASTRAInjector(self.dirname, overwrite=overwrite)\n",
    "        if not os.name == 'nt':\n",
    "            astra.defineASTRACommand(['mpiexec','-np',str(ncpu),'/opt/ASTRA/astra_MPICH2_Quiet.sh'])\n",
    "        else:\n",
    "            astra.defineASTRACommand(['astra'])\n",
    "        astra.loadSettings('short_240.settings')\n",
    "        astra.fileSettings['test.4']['quad_K'] = self.parameters[0:2]\n",
    "        astra.fileSettings['test.5']['quad_K'] = self.parameters[2:]\n",
    "        # astra.fileSettings['test.2']['starting_distribution'] = astra.fileSettings['test.2']['starting_distribution']\n",
    "        # astra.fileSettings['test.3']['starting_distribution'] = astra.fileSettings['test.3']['starting_distribution']\n",
    "        # astra.fileSettings['test.4']['starting_distribution'] = astra.fileSettings['test.4']['starting_distribution']\n",
    "        # astra.fileSettings['test.5']['starting_distribution'] = astra.fileSettings['test.5']['starting_distribution']\n",
    "        astra.createInitialDistribution(npart=npart, charge=250)\n",
    "        astra.applySettings()\n",
    "        astra.runASTRAFiles()\n",
    "        # ft = feltools(self.dirname)\n",
    "        # sddsfile = ft.convertToSDDS('test.in.128.4929.128')\n",
    "        self.cons = constraintsClass()\n",
    "\n",
    "    def calculateTwissParameters(self):\n",
    "        twiss.read_astra_emit_files('test.3.Zemit.001')\n",
    "        constraintsList3 = {\n",
    "            'max_xrms_126': {'type': 'lessthan', 'value': 1e3*max(twiss['sigma_x']), 'limit': 1, 'weight': 10},\n",
    "            'max_yrms_126': {'type': 'lessthan', 'value': 1e3*max(twiss['sigma_y']), 'limit': 1, 'weight': 10},\n",
    "            'min_xrms_126': {'type': 'greaterthan', 'value': 1e3*min(twiss['sigma_x']), 'limit': 0.2, 'weight': 10},\n",
    "            'min_yrms_126': {'type': 'greaterthan', 'value': 1e3*min(twiss['sigma_y']), 'limit': 0.2, 'weight': 10},\n",
    "            'last_beta_x_128': {'type': 'lessthan', 'value': twiss['beta_x'], 'limit': 50, 'weight': 50},\n",
    "            'last_beta_y_128': {'type': 'lessthan', 'value': twiss['beta_y'], 'limit': 50, 'weight': 50},\n",
    "        }\n",
    "        twiss.read_astra_emit_files(self.dirname+'/test.4.Zemit.001')\n",
    "        constraintsList4 = {\n",
    "            'min_xrms_127': {'type': 'greaterthan', 'value': 1e3*min(twiss['sigma_x']), 'limit': 0.1, 'weight': 30},\n",
    "            'min_yrms_127': {'type': 'greaterthan', 'value': 1e3*min(twiss['sigma_y']), 'limit': 0.2, 'weight': 50},\n",
    "            'last_yrms_127': {'type': 'greaterthan', 'value': 1e3*twiss['sigma_y'][-1], 'limit': 0.4, 'weight': 30},\n",
    "            'last_xrms_127': {'type': 'lessthan', 'value': 1e3*twiss['sigma_x'][-1], 'limit': 0.2, 'weight': 30},\n",
    "            'last_exn_127': {'type': 'lessthan', 'value': 1e6*twiss['enx'][-1], 'limit': 0.8, 'weight': 10},\n",
    "            'last_eyn_127': {'type': 'lessthan', 'value': 1e6*twiss['eny'][-1], 'limit': 0.8, 'weight': 10},\n",
    "        }\n",
    "        constraintsList = merge_two_dicts(constraintsList3,constraintsList4)\n",
    "        twiss.read_astra_emit_files(self.dirname+'/test.5.Zemit.001')\n",
    "        constraintsList5 = {\n",
    "            'min_xrms_128': {'type': 'greaterthan', 'value': 1e3*min(twiss['sigma_x']), 'limit': 0.1, 'weight': 20},\n",
    "            'min_yrms_128': {'type': 'greaterthan', 'value': 1e3*min(twiss['sigma_y']), 'limit': 0.2, 'weight': 20},\n",
    "            'last_alpha_x_128': {'type': 'lessthan', 'value': abs(twiss['alpha_x'][-1]), 'limit': 5, 'weight': 10},\n",
    "            'last_alpha_y_128': {'type': 'lessthan', 'value': abs(twiss['alpha_y'][-1]), 'limit': 5, 'weight': 10},\n",
    "            'last_beta_x_128': {'type': 'lessthan', 'value': twiss['beta_x'][-1], 'limit': 50, 'weight': 50},\n",
    "            'last_beta_y_128': {'type': 'lessthan', 'value': twiss['beta_y'][-1], 'limit': 50, 'weight': 50},\n",
    "        }\n",
    "        constraintsList = merge_two_dicts(constraintsList, constraintsList5)\n",
    "        fitness = self.cons.constraints(constraintsList)\n",
    "        if self.verbose:\n",
    "            print self.cons.constraintsList(constraintsList)\n",
    "        return fitness"
   ]
  },
  {
   "cell_type": "markdown",
   "metadata": {},
   "source": [
    "## optFunc"
   ]
  },
  {
   "cell_type": "code",
   "execution_count": 6,
   "metadata": {
    "collapsed": true
   },
   "outputs": [],
   "source": [
    "def optfunc(args, dir=None, **kwargs):\n",
    "    if dir == None:\n",
    "        with TemporaryDirectory(dir=os.getcwd()) as tmpdir:\n",
    "            fit = fitnessFunc(args, tmpdir, **kwargs)\n",
    "            fitvalue = fit.calculateTwissParameters()\n",
    "    else:\n",
    "            fit = fitnessFunc(args, dir, **kwargs)\n",
    "            fitvalue = fit.calculateTwissParameters()\n",
    "    return (fitvalue,)"
   ]
  },
  {
   "cell_type": "markdown",
   "metadata": {},
   "source": [
    "## Generate Simplex"
   ]
  },
  {
   "cell_type": "code",
   "execution_count": 7,
   "metadata": {
    "collapsed": true
   },
   "outputs": [],
   "source": [
    "best = [\n",
    "    1.76571, -0.334896,\n",
    "    -2.38819, 3.60297, 5., -4., -3.29565, 3.38181, 1.52921, 2.22559, -2.95347, -1.71192, -5.98555, 7.72644, -5.24599\n",
    "]"
   ]
  },
  {
   "cell_type": "code",
   "execution_count": 8,
   "metadata": {
    "collapsed": false,
    "scrolled": true
   },
   "outputs": [],
   "source": [
    "startranges = [[0.8*i, 1.4*i] for i in best]"
   ]
  },
  {
   "cell_type": "code",
   "execution_count": 9,
   "metadata": {
    "collapsed": false
   },
   "outputs": [],
   "source": [
    "generateHasBeenCalled = False"
   ]
  },
  {
   "cell_type": "code",
   "execution_count": 10,
   "metadata": {
    "collapsed": true
   },
   "outputs": [],
   "source": [
    "def generate():\n",
    "    global generateHasBeenCalled\n",
    "    if not generateHasBeenCalled:\n",
    "        generateHasBeenCalled = True\n",
    "        return creator.Individual(list(best))\n",
    "    else:\n",
    "        return creator.Individual(random.uniform(a,b) for a,b in startranges)"
   ]
  },
  {
   "cell_type": "markdown",
   "metadata": {},
   "source": [
    "## Optimisation"
   ]
  },
  {
   "cell_type": "markdown",
   "metadata": {},
   "source": [
    "### Initiate toolbox"
   ]
  },
  {
   "cell_type": "code",
   "execution_count": 11,
   "metadata": {
    "collapsed": false
   },
   "outputs": [],
   "source": [
    "creator.create(\"FitnessMin\", base.Fitness, weights=(-1.0,))\n",
    "creator.create(\"Individual\", list, fitness=creator.FitnessMin)"
   ]
  },
  {
   "cell_type": "code",
   "execution_count": 12,
   "metadata": {
    "collapsed": true
   },
   "outputs": [],
   "source": [
    "toolbox = base.Toolbox()"
   ]
  },
  {
   "cell_type": "code",
   "execution_count": 13,
   "metadata": {
    "collapsed": true
   },
   "outputs": [],
   "source": [
    "toolbox.register(\"attr_bool\", generate)"
   ]
  },
  {
   "cell_type": "code",
   "execution_count": 14,
   "metadata": {
    "collapsed": true
   },
   "outputs": [],
   "source": [
    "toolbox.register(\"Individual\", generate)"
   ]
  },
  {
   "cell_type": "code",
   "execution_count": 15,
   "metadata": {
    "collapsed": true
   },
   "outputs": [],
   "source": [
    "toolbox.register(\"population\", tools.initRepeat, list, toolbox.Individual)"
   ]
  },
  {
   "cell_type": "code",
   "execution_count": 16,
   "metadata": {
    "collapsed": true
   },
   "outputs": [],
   "source": [
    "toolbox.register(\"evaluate\", optfunc)"
   ]
  },
  {
   "cell_type": "code",
   "execution_count": 17,
   "metadata": {
    "collapsed": true
   },
   "outputs": [],
   "source": [
    "toolbox.register(\"mate\", tools.cxBlend, alpha=0.2)"
   ]
  },
  {
   "cell_type": "code",
   "execution_count": 18,
   "metadata": {
    "collapsed": true
   },
   "outputs": [],
   "source": [
    "toolbox.register(\"mutate\", tools.mutGaussian, mu=0, sigma=3, indpb=0.3)"
   ]
  },
  {
   "cell_type": "code",
   "execution_count": 19,
   "metadata": {
    "collapsed": true
   },
   "outputs": [],
   "source": [
    "toolbox.register(\"select\", tools.selTournament, tournsize=3)"
   ]
  },
  {
   "cell_type": "code",
   "execution_count": 20,
   "metadata": {
    "collapsed": true
   },
   "outputs": [],
   "source": [
    "random.seed(64)"
   ]
  },
  {
   "cell_type": "markdown",
   "metadata": {},
   "source": [
    "### Another Heading"
   ]
  },
  {
   "cell_type": "code",
   "execution_count": 21,
   "metadata": {
    "collapsed": false
   },
   "outputs": [],
   "source": [
    "pop = toolbox.population(n=20)"
   ]
  },
  {
   "cell_type": "markdown",
   "metadata": {},
   "source": [
    "### Hall of Fame"
   ]
  },
  {
   "cell_type": "code",
   "execution_count": 22,
   "metadata": {
    "collapsed": false
   },
   "outputs": [],
   "source": [
    "hof = tools.HallOfFame(10)"
   ]
  },
  {
   "cell_type": "code",
   "execution_count": 23,
   "metadata": {
    "collapsed": true
   },
   "outputs": [],
   "source": [
    "stats = tools.Statistics(lambda ind: ind.fitness.values)"
   ]
  },
  {
   "cell_type": "code",
   "execution_count": 25,
   "metadata": {
    "collapsed": false
   },
   "outputs": [],
   "source": [
    "stats.register(\"avg\", numpy.mean)\n",
    "stats.register(\"std\", numpy.std)\n",
    "stats.register(\"min\", numpy.min)\n",
    "stats.register(\"max\", numpy.max)"
   ]
  },
  {
   "cell_type": "code",
   "execution_count": null,
   "metadata": {
    "collapsed": true
   },
   "outputs": [],
   "source": []
  }
 ],
 "metadata": {
  "kernelspec": {
   "display_name": "Python [Root]",
   "language": "python",
   "name": "Python [Root]"
  },
  "language_info": {
   "codemirror_mode": {
    "name": "ipython",
    "version": 2
   },
   "file_extension": ".py",
   "mimetype": "text/x-python",
   "name": "python",
   "nbconvert_exporter": "python",
   "pygments_lexer": "ipython2",
   "version": "2.7.12"
  }
 },
 "nbformat": 4,
 "nbformat_minor": 2
}
